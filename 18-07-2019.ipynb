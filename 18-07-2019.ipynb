{
 "cells": [
  {
   "cell_type": "markdown",
   "metadata": {},
   "source": [
    "## The Dice"
   ]
  },
  {
   "cell_type": "code",
   "execution_count": 72,
   "metadata": {},
   "outputs": [
    {
     "name": "stdout",
     "output_type": "stream",
     "text": [
      "36623166\n",
      "-1\n"
     ]
    }
   ],
   "source": [
    "n=input().split('6')\n",
    "c=0\n",
    "n1=n.count('')\n",
    "if n1>=2:\n",
    "    print(-1)\n",
    "elif(n[-1]==''):\n",
    "    print(-1)\n",
    "else:\n",
    "    for i in n:\n",
    "        for j in i:\n",
    "            c=c+1\n",
    "    print(c)\n"
   ]
  },
  {
   "cell_type": "code",
   "execution_count": null,
   "metadata": {},
   "outputs": [],
   "source": []
  },
  {
   "cell_type": "code",
   "execution_count": 57,
   "metadata": {
    "scrolled": true
   },
   "outputs": [
    {
     "data": {
      "text/plain": [
       "['__add__',\n",
       " '__class__',\n",
       " '__contains__',\n",
       " '__delattr__',\n",
       " '__delitem__',\n",
       " '__dir__',\n",
       " '__doc__',\n",
       " '__eq__',\n",
       " '__format__',\n",
       " '__ge__',\n",
       " '__getattribute__',\n",
       " '__getitem__',\n",
       " '__gt__',\n",
       " '__hash__',\n",
       " '__iadd__',\n",
       " '__imul__',\n",
       " '__init__',\n",
       " '__init_subclass__',\n",
       " '__iter__',\n",
       " '__le__',\n",
       " '__len__',\n",
       " '__lt__',\n",
       " '__mul__',\n",
       " '__ne__',\n",
       " '__new__',\n",
       " '__reduce__',\n",
       " '__reduce_ex__',\n",
       " '__repr__',\n",
       " '__reversed__',\n",
       " '__rmul__',\n",
       " '__setattr__',\n",
       " '__setitem__',\n",
       " '__sizeof__',\n",
       " '__str__',\n",
       " '__subclasshook__',\n",
       " 'append',\n",
       " 'clear',\n",
       " 'copy',\n",
       " 'count',\n",
       " 'extend',\n",
       " 'index',\n",
       " 'insert',\n",
       " 'pop',\n",
       " 'remove',\n",
       " 'reverse',\n",
       " 'sort']"
      ]
     },
     "execution_count": 57,
     "metadata": {},
     "output_type": "execute_result"
    }
   ],
   "source": [
    "\n",
    "dir(list)\n"
   ]
  },
  {
   "cell_type": "code",
   "execution_count": null,
   "metadata": {},
   "outputs": [],
   "source": []
  },
  {
   "cell_type": "markdown",
   "metadata": {},
   "source": [
    "### Little Jhool and psychic powers"
   ]
  },
  {
   "cell_type": "code",
   "execution_count": 124,
   "metadata": {},
   "outputs": [
    {
     "name": "stdout",
     "output_type": "stream",
     "text": [
      "11111111111111\n",
      "2 0\n",
      "Sorry, sorry!\n"
     ]
    }
   ],
   "source": [
    "n=input()\n",
    "n1=n.count('111111')\n",
    "n2=n.count('000000')\n",
    "print(n1,n2)\n",
    "if n1>=1 or n2>=1:\n",
    "    print(\"Sorry, sorry!\")\n",
    "elif n1==0 and n2==0:\n",
    "    print(\"Good luck!\")\n",
    "\n"
   ]
  },
  {
   "cell_type": "code",
   "execution_count": null,
   "metadata": {},
   "outputs": [],
   "source": []
  },
  {
   "cell_type": "code",
   "execution_count": 12,
   "metadata": {
    "scrolled": true
   },
   "outputs": [
    {
     "name": "stdout",
     "output_type": "stream",
     "text": [
      "6\n",
      "4 2 1 3 5 6\n",
      "NO\n",
      "{1: 1, 2: 1, 3: 1, 4: 1, 5: 1, 6: 1}\n"
     ]
    }
   ],
   "source": [
    "n1=int(input())\n",
    "n=sorted(list(map(int,input().split())))\n",
    "n3=max(n)\n",
    "n2=min(n)\n",
    "c=0\n",
    "u={}\n",
    "s=set(n)\n",
    "for i in s:\n",
    "    u[i]=n.count(i)\n",
    "    if i>=n2 and i<=n3:\n",
    "        c=c+1\n",
    "b=u.values()\n",
    "b1=(sum(b))\n",
    "if n==b1:\n",
    "    print(\"YES\")\n",
    "else:\n",
    "    print('NO')\n",
    "\n",
    "print(u)\n"
   ]
  },
  {
   "cell_type": "code",
   "execution_count": 26,
   "metadata": {},
   "outputs": [
    {
     "name": "stdout",
     "output_type": "stream",
     "text": [
      "10\n",
      "6 8 10 12 14 16 18 20 22 24\n",
      "1\n",
      "2\n",
      "3\n",
      "4\n",
      "5\n",
      "6\n",
      "7\n",
      "8\n",
      "9\n",
      "10\n",
      "YES\n"
     ]
    }
   ],
   "source": [
    "n1=int(input())\n",
    "n=list(map(int,input().split()))\n",
    "m=min(n)\n",
    "m1=max(n)\n",
    "c=0\n",
    "for i in n:\n",
    "    if i >=m or i<=m1:\n",
    "        c=c+1\n",
    "        print(c)\n",
    "if n1==c:\n",
    "    print('YES')\n",
    "else:\n",
    "    print('NO')\n",
    "    \n"
   ]
  },
  {
   "cell_type": "code",
   "execution_count": null,
   "metadata": {},
   "outputs": [],
   "source": [
    "2,3,1,2,2"
   ]
  },
  {
   "cell_type": "code",
   "execution_count": 34,
   "metadata": {},
   "outputs": [
    {
     "name": "stdout",
     "output_type": "stream",
     "text": [
      "The original string : sadw96aeafae4awdw2wd100awd\n",
      "The numbers list is : []\n"
     ]
    }
   ],
   "source": [
    "test_string = \"sadw96aeafae4awdw2wd100awd\"\n",
    "print(\"The original string : \" + test_string) \n",
    "res = [int(i) for i in test_string.split() if i.isdigit()] \n",
    "print(\"The numbers list is : \" + str(res)) \n"
   ]
  },
  {
   "cell_type": "code",
   "execution_count": 36,
   "metadata": {},
   "outputs": [
    {
     "name": "stdout",
     "output_type": "stream",
     "text": [
      "The original string : g1eeks4geeks55\n",
      "The digits string is : 1455\n"
     ]
    }
   ],
   "source": [
    "test_string = 'g1eeks4geeks55'\n",
    "  \n",
    "# printing original strings   \n",
    "print(\"The original string : \" + test_string) \n",
    "  \n",
    "# using join() + isdigit() + filter() \n",
    "# Extract digit string  \n",
    "res = ''.join(filter(lambda i: i.isdigit(), test_string)) \n",
    "      \n",
    "# print result \n",
    "print(\"The digits string is : \" + str(res)) "
   ]
  },
  {
   "cell_type": "code",
   "execution_count": null,
   "metadata": {},
   "outputs": [],
   "source": []
  }
 ],
 "metadata": {
  "kernelspec": {
   "display_name": "Python 3",
   "language": "python",
   "name": "python3"
  },
  "language_info": {
   "codemirror_mode": {
    "name": "ipython",
    "version": 3
   },
   "file_extension": ".py",
   "mimetype": "text/x-python",
   "name": "python",
   "nbconvert_exporter": "python",
   "pygments_lexer": "ipython3",
   "version": "3.7.3"
  }
 },
 "nbformat": 4,
 "nbformat_minor": 2
}
