{
 "cells": [
  {
   "cell_type": "markdown",
   "metadata": {},
   "source": [
    "### Day Objectives\n",
    "\n",
    "### 1st June 2019\n",
    "- Practice on Income Data set\n",
    "  - Define functions for the following data points\n",
    "    - Average Income of all states from 2005 to 2013\n",
    "    - State with highest average income in the last three years\n",
    "    - State with lowest average income from 2007 to 2010(inclusive)\n",
    "    - Print the list of all states in the same line with average income less than California\n",
    "    - Print the names of states based on descending order of income in the year 2009\n",
    "    - State with the lowest recorded income from 2005 to 2013\n"
   ]
  },
  {
   "cell_type": "markdown",
   "metadata": {},
   "source": [
    "### Average Income of all states from 2005 to 2013"
   ]
  },
  {
   "cell_type": "code",
   "execution_count": 11,
   "metadata": {
    "scrolled": false
   },
   "outputs": [
    {
     "name": "stdout",
     "output_type": "stream",
     "text": [
      "48525\n"
     ]
    }
   ],
   "source": [
    "# Fucntion to find the Average income of all states from 2005 to 2013\n",
    "def avg(df):\n",
    "    s=0\n",
    "    c=0\n",
    "    for i in range(len(df.values)):\n",
    "        for j in range(2,len(df.columns)):\n",
    "            s=s+df.values[i][j]\n",
    "            c=c+1\n",
    "    print(s//c)        \n",
    "avg(incomedf)\n",
    "    "
   ]
  },
  {
   "cell_type": "code",
   "execution_count": null,
   "metadata": {},
   "outputs": [],
   "source": []
  },
  {
   "cell_type": "markdown",
   "metadata": {},
   "source": [
    "### Print the names of states based on descending order of income in the year 2009"
   ]
  },
  {
   "cell_type": "code",
   "execution_count": 12,
   "metadata": {},
   "outputs": [
    {
     "name": "stdout",
     "output_type": "stream",
     "text": [
      "[61604, 56134, 45739, 39980, 36538]\n"
     ]
    }
   ],
   "source": [
    "# Print the names of states based on descending order of income in the year 2009\n",
    "def desc_2009(df):\n",
    "    li=[]\n",
    "    u=[]\n",
    "    s=[]\n",
    "    for i in range(len(df.values)):\n",
    "        for j in range(len(df.columns)):\n",
    "            a=df.values[i][6]\n",
    "            if a not in li:\n",
    "                li.append(a)\n",
    "    u=sorted(li,reverse=True)\n",
    "    print(u)\n",
    "        \n",
    "desc_2009(incomedf)"
   ]
  },
  {
   "cell_type": "code",
   "execution_count": 13,
   "metadata": {},
   "outputs": [
    {
     "name": "stdout",
     "output_type": "stream",
     "text": [
      "Alaska : 61604\n",
      "California : 56134\n",
      "Arizona : 45739\n",
      "Alabama : 39980\n",
      "Arkansas : 36538\n"
     ]
    }
   ],
   "source": [
    "# Print the names of states based on descending order of income in the year 2009\n",
    "def desc_2009(df):\n",
    "    li={}\n",
    "    u=[]\n",
    "    for i in range(len(df.values)):\n",
    "        for j in range(6,len(df.columns)-4):\n",
    "            li[df.values[i][1]]=df.values[i][j]\n",
    "    u=sorted(li.values(),reverse=True)\n",
    "    for i in u:\n",
    "        for item in li.items():\n",
    "            if item[1]==i:\n",
    "                print(item[0],':',i)\n",
    "    return\n",
    "            \n",
    "desc_2009(incomedf)"
   ]
  },
  {
   "cell_type": "markdown",
   "metadata": {},
   "source": [
    "### State with lowest average income from 2007 to 2010(inclusive)"
   ]
  },
  {
   "cell_type": "code",
   "execution_count": 14,
   "metadata": {},
   "outputs": [
    {
     "name": "stdout",
     "output_type": "stream",
     "text": [
      "{'Alabama': 41900, 'Alaska': 61608, 'Arizona': 46691, 'Arkansas': 38876, 'California': 55791}\n",
      "\n",
      "\n",
      "Arkansas : 38876\n"
     ]
    }
   ],
   "source": [
    "# State with lowest average income from 2007 to 2010(inclusive)\n",
    "def LowestavgIncome(df):\n",
    "    li={}\n",
    "    u=[]\n",
    "    for i in range(len(df.values)):\n",
    "        s=0\n",
    "        c=0\n",
    "        for j in range(4,len(df.columns)-3):\n",
    "            s=s+df.values[i][j]\n",
    "            c=c+1\n",
    "        li[df.values[i][1]]=s//c\n",
    "    print(li)\n",
    "    print(\"\\n\")\n",
    "    lis=min(li.values())\n",
    "    for item in li.items():\n",
    "        if lis==item[1]:\n",
    "            print(item[0],':',lis)\n",
    "LowestavgIncome(incomedf)\n",
    "    "
   ]
  },
  {
   "cell_type": "markdown",
   "metadata": {},
   "source": [
    "### State with highest average income in the last three years"
   ]
  },
  {
   "cell_type": "code",
   "execution_count": 15,
   "metadata": {
    "scrolled": true
   },
   "outputs": [
    {
     "name": "stdout",
     "output_type": "stream",
     "text": [
      "{'Alabama': 42478, 'Alaska': 60738, 'Arizona': 48755, 'Arkansas': 40079, 'California': 55971}\n",
      "\n",
      "\n",
      "Alaska : 60738\n"
     ]
    }
   ],
   "source": [
    "# State with highest average income in the last three years\n",
    "\n",
    "def HighestavgIncome(df):\n",
    "    li={}\n",
    "    u=[]\n",
    "    for i in range(len(df.values)):\n",
    "        s=0\n",
    "        c=0\n",
    "        for j in range(8,len(df.columns)):\n",
    "            s=s+df.values[i][j]\n",
    "            c=c+1\n",
    "        li[df.values[i][1]]=s//c\n",
    "    print(li)\n",
    "    print(\"\\n\")\n",
    "    lis=max(li.values())\n",
    "    for item in li.items():\n",
    "        if lis==item[1]:\n",
    "            print(item[0],':',lis)\n",
    "HighestavgIncome(incomedf)\n",
    "    "
   ]
  },
  {
   "cell_type": "markdown",
   "metadata": {},
   "source": [
    "### State with the lowest recorded income from 2005 to 2013"
   ]
  },
  {
   "cell_type": "code",
   "execution_count": 16,
   "metadata": {},
   "outputs": [
    {
     "name": "stdout",
     "output_type": "stream",
     "text": [
      "Arkansas : 36538\n"
     ]
    }
   ],
   "source": [
    "# State with the lowest recorded income from 2005 to 2013\n",
    "\n",
    "\n",
    "def LowestavgIncome2005_2013(df):\n",
    "    u=[]\n",
    "    for i in range(len(df.values)):\n",
    "\n",
    "        for j in range(2,len(df.columns)):\n",
    "            u.append(df.values[i][j])\n",
    "    a=min(u)\n",
    "    for i in range(len(df.values)):\n",
    "        for j in range(2,len(df.columns)):\n",
    "            if df.values[i][j]==a:\n",
    "                b=df.values[i][1]\n",
    "    print(b,':',a)\n",
    "LowestavgIncome2005_2013(incomedf)\n",
    "    "
   ]
  },
  {
   "cell_type": "markdown",
   "metadata": {},
   "source": [
    "### Print the list of all states in the same line with average income less than California"
   ]
  },
  {
   "cell_type": "code",
   "execution_count": 17,
   "metadata": {
    "scrolled": true
   },
   "outputs": [
    {
     "name": "stdout",
     "output_type": "stream",
     "text": [
      "{'Alabama': 41126, 'Alaska': 60106, 'Arizona': 47214, 'Arkansas': 38828, 'California': 55350}\n",
      "\n",
      "\n",
      "Alabama : 41126\n",
      "Arizona : 47214\n",
      "Arkansas : 38828\n"
     ]
    }
   ],
   "source": [
    "# Fucntion to print the list of all the states in the same line with average income less than california\n",
    "def AvgLessCalifornia(df):\n",
    "    li={}\n",
    "    for i in range(len(df.values)):\n",
    "        s=0\n",
    "        c=0\n",
    "        for j in range(2,len(df.columns)):\n",
    "            s=s+df.values[i][j]\n",
    "            c=c+1\n",
    "        li[df.values[i][1]]=s//c\n",
    "    print(li)\n",
    "    print('\\n')\n",
    "    for item in li.items():\n",
    "        if item[1]<55350:\n",
    "            print(item[0],':',item[1])\n",
    "        \n",
    "AvgLessCalifornia(incomedf)\n"
   ]
  },
  {
   "cell_type": "code",
   "execution_count": null,
   "metadata": {},
   "outputs": [],
   "source": []
  },
  {
   "cell_type": "markdown",
   "metadata": {},
   "source": [
    "### Read CSV File"
   ]
  },
  {
   "cell_type": "code",
   "execution_count": 18,
   "metadata": {
    "scrolled": false
   },
   "outputs": [
    {
     "data": {
      "text/html": [
       "<div>\n",
       "<style scoped>\n",
       "    .dataframe tbody tr th:only-of-type {\n",
       "        vertical-align: middle;\n",
       "    }\n",
       "\n",
       "    .dataframe tbody tr th {\n",
       "        vertical-align: top;\n",
       "    }\n",
       "\n",
       "    .dataframe thead th {\n",
       "        text-align: right;\n",
       "    }\n",
       "</style>\n",
       "<table border=\"1\" class=\"dataframe\">\n",
       "  <thead>\n",
       "    <tr style=\"text-align: right;\">\n",
       "      <th></th>\n",
       "      <th>GEOID</th>\n",
       "      <th>State</th>\n",
       "      <th>2005</th>\n",
       "      <th>2006</th>\n",
       "      <th>2007</th>\n",
       "      <th>2008</th>\n",
       "      <th>2009</th>\n",
       "      <th>2010</th>\n",
       "      <th>2011</th>\n",
       "      <th>2012</th>\n",
       "      <th>2013</th>\n",
       "    </tr>\n",
       "  </thead>\n",
       "  <tbody>\n",
       "    <tr>\n",
       "      <th>0</th>\n",
       "      <td>04000US01</td>\n",
       "      <td>Alabama</td>\n",
       "      <td>37150</td>\n",
       "      <td>37952</td>\n",
       "      <td>42212</td>\n",
       "      <td>44476</td>\n",
       "      <td>39980</td>\n",
       "      <td>40933</td>\n",
       "      <td>42590</td>\n",
       "      <td>43464</td>\n",
       "      <td>41381</td>\n",
       "    </tr>\n",
       "    <tr>\n",
       "      <th>1</th>\n",
       "      <td>04000US02</td>\n",
       "      <td>Alaska</td>\n",
       "      <td>55891</td>\n",
       "      <td>56418</td>\n",
       "      <td>62993</td>\n",
       "      <td>63989</td>\n",
       "      <td>61604</td>\n",
       "      <td>57848</td>\n",
       "      <td>57431</td>\n",
       "      <td>63648</td>\n",
       "      <td>61137</td>\n",
       "    </tr>\n",
       "    <tr>\n",
       "      <th>2</th>\n",
       "      <td>04000US04</td>\n",
       "      <td>Arizona</td>\n",
       "      <td>45245</td>\n",
       "      <td>46657</td>\n",
       "      <td>47215</td>\n",
       "      <td>46914</td>\n",
       "      <td>45739</td>\n",
       "      <td>46896</td>\n",
       "      <td>48621</td>\n",
       "      <td>47044</td>\n",
       "      <td>50602</td>\n",
       "    </tr>\n",
       "    <tr>\n",
       "      <th>3</th>\n",
       "      <td>04000US05</td>\n",
       "      <td>Arkansas</td>\n",
       "      <td>36658</td>\n",
       "      <td>37057</td>\n",
       "      <td>40795</td>\n",
       "      <td>39586</td>\n",
       "      <td>36538</td>\n",
       "      <td>38587</td>\n",
       "      <td>41302</td>\n",
       "      <td>39018</td>\n",
       "      <td>39919</td>\n",
       "    </tr>\n",
       "    <tr>\n",
       "      <th>4</th>\n",
       "      <td>04000US06</td>\n",
       "      <td>California</td>\n",
       "      <td>51755</td>\n",
       "      <td>55319</td>\n",
       "      <td>55734</td>\n",
       "      <td>57014</td>\n",
       "      <td>56134</td>\n",
       "      <td>54283</td>\n",
       "      <td>53367</td>\n",
       "      <td>57020</td>\n",
       "      <td>57528</td>\n",
       "    </tr>\n",
       "  </tbody>\n",
       "</table>\n",
       "</div>"
      ],
      "text/plain": [
       "       GEOID       State   2005   2006   2007   2008   2009   2010   2011  \\\n",
       "0  04000US01     Alabama  37150  37952  42212  44476  39980  40933  42590   \n",
       "1  04000US02      Alaska  55891  56418  62993  63989  61604  57848  57431   \n",
       "2  04000US04     Arizona  45245  46657  47215  46914  45739  46896  48621   \n",
       "3  04000US05    Arkansas  36658  37057  40795  39586  36538  38587  41302   \n",
       "4  04000US06  California  51755  55319  55734  57014  56134  54283  53367   \n",
       "\n",
       "    2012   2013  \n",
       "0  43464  41381  \n",
       "1  63648  61137  \n",
       "2  47044  50602  \n",
       "3  39018  39919  \n",
       "4  57020  57528  "
      ]
     },
     "execution_count": 18,
     "metadata": {},
     "output_type": "execute_result"
    }
   ],
   "source": [
    "# Function to read csv data into a Data Frame\n",
    "# retruns the DataFrame Object\n",
    "\n",
    "import pandas as pd\n",
    "  # comma seprated values all spreads are csv files\n",
    "def readCSVdata(filepath):\n",
    "    return pd.read_csv(filepath)\n",
    "filepath='DataFiles\\income.csv'\n",
    "readCSVdata(filepath)\n"
   ]
  },
  {
   "cell_type": "code",
   "execution_count": null,
   "metadata": {},
   "outputs": [],
   "source": []
  },
  {
   "cell_type": "markdown",
   "metadata": {},
   "source": [
    "### Print Data Frame Columns"
   ]
  },
  {
   "cell_type": "code",
   "execution_count": 19,
   "metadata": {},
   "outputs": [
    {
     "name": "stdout",
     "output_type": "stream",
     "text": [
      "GEOID State 2005 2006 2007 2008 2009 2010 2011 2012 2013 "
     ]
    }
   ],
   "source": [
    "incomedf=readCSVdata(filepath)\n",
    "# Fucntion to print all columns names in a single line\n",
    "\n",
    "# GEOID State 2005 2006 2007 2008 2009 2010 2011 2012 2013\n",
    "\n",
    "def printDataFrameColumns(df):\n",
    "    columns=df.columns\n",
    "    for column in columns:\n",
    "        print(column,end=\" \")\n",
    "    return\n",
    "printDataFrameColumns(incomedf)\n",
    "        "
   ]
  },
  {
   "cell_type": "code",
   "execution_count": null,
   "metadata": {},
   "outputs": [],
   "source": []
  },
  {
   "cell_type": "markdown",
   "metadata": {},
   "source": [
    "### Access data frame Row"
   ]
  },
  {
   "cell_type": "code",
   "execution_count": 20,
   "metadata": {},
   "outputs": [
    {
     "name": "stdout",
     "output_type": "stream",
     "text": [
      "04000US02 Alaska 55891 56418 62993 63989 61604 57848 57431 63648 61137 "
     ]
    }
   ],
   "source": [
    "# Function to access a row based on a unique \n",
    "def accessDataFrameRow(df,key):\n",
    "    for row in df.values:\n",
    "        if key in row:\n",
    "            for item in row:\n",
    "                print(item,end=\" \")\n",
    "    return\n",
    "accessDataFrameRow(incomedf,'Alaska')"
   ]
  },
  {
   "cell_type": "code",
   "execution_count": null,
   "metadata": {},
   "outputs": [],
   "source": []
  }
 ],
 "metadata": {
  "kernelspec": {
   "display_name": "Python 3",
   "language": "python",
   "name": "python3"
  },
  "language_info": {
   "codemirror_mode": {
    "name": "ipython",
    "version": 3
   },
   "file_extension": ".py",
   "mimetype": "text/x-python",
   "name": "python",
   "nbconvert_exporter": "python",
   "pygments_lexer": "ipython3",
   "version": "3.7.3"
  }
 },
 "nbformat": 4,
 "nbformat_minor": 2
}
