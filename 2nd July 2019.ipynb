{
 "cells": [
  {
   "cell_type": "markdown",
   "metadata": {},
   "source": [
    "### Day Objectives:-\n",
    "- List of all unique Prime_Genres (categories) in the dataset\n",
    "- Category with highest number of apps\n",
    "- Category with lowest number of apps\n",
    "- Category with highest user rating\n",
    "- App with highest downloads\n",
    "- Category with highest average rating count\n",
    "- Average user rating for free apps\n",
    "- Average user rating for paid apps\n",
    "- Category with highest average user rating for paid apps\n",
    "- Most Frequent Price point >0\n",
    "- Compare average user rating for piad vs free gaming apps"
   ]
  },
  {
   "cell_type": "code",
   "execution_count": 16,
   "metadata": {},
   "outputs": [
    {
     "name": "stdout",
     "output_type": "stream",
     "text": [
      "aaa\n",
      "3\n"
     ]
    }
   ],
   "source": [
    "def char_sum(n):\n",
    "    s=0\n",
    "    n=input()\n",
    "    for i in n:\n",
    "        s=s+ord(i)-96\n",
    "    print(s)\n",
    "char_sum(n)"
   ]
  },
  {
   "cell_type": "code",
   "execution_count": 11,
   "metadata": {},
   "outputs": [
    {
     "data": {
      "text/plain": [
       "1"
      ]
     },
     "execution_count": 11,
     "metadata": {},
     "output_type": "execute_result"
    }
   ],
   "source": [
    "ord()-96"
   ]
  },
  {
   "cell_type": "markdown",
   "metadata": {},
   "source": [
    "23 July 1914\n",
    "2 August 2000\n",
    "5 November 1999"
   ]
  },
  {
   "cell_type": "code",
   "execution_count": 25,
   "metadata": {},
   "outputs": [
    {
     "name": "stdout",
     "output_type": "stream",
     "text": [
      "1\n",
      "23 July 1914\n",
      "22 July 1914\n"
     ]
    }
   ],
   "source": [
    "n=int(input())\n",
    "for i in range(n):\n",
    "    s=input().split()\n",
    "    print((int(s[0])-int(1)),s[1],s[2])"
   ]
  },
  {
   "cell_type": "code",
   "execution_count": 29,
   "metadata": {},
   "outputs": [
    {
     "name": "stdout",
     "output_type": "stream",
     "text": [
      "3\n",
      "1 2\n",
      "3713081631934410656\n"
     ]
    }
   ],
   "source": [
    "n=int(input())\n",
    "n1=tuple(map(int,input().split()))\n",
    "print(hash(n1))"
   ]
  },
  {
   "cell_type": "code",
   "execution_count": null,
   "metadata": {},
   "outputs": [],
   "source": [
    "n=int(input())\n"
   ]
  }
 ],
 "metadata": {
  "kernelspec": {
   "display_name": "Python 3",
   "language": "python",
   "name": "python3"
  },
  "language_info": {
   "codemirror_mode": {
    "name": "ipython",
    "version": 3
   },
   "file_extension": ".py",
   "mimetype": "text/x-python",
   "name": "python",
   "nbconvert_exporter": "python",
   "pygments_lexer": "ipython3",
   "version": "3.7.3"
  }
 },
 "nbformat": 4,
 "nbformat_minor": 2
}
