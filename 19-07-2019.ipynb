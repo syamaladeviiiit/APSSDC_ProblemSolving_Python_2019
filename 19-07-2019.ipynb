{
 "cells": [
  {
   "cell_type": "code",
   "execution_count": null,
   "metadata": {},
   "outputs": [],
   "source": []
  },
  {
   "cell_type": "markdown",
   "metadata": {},
   "source": [
    "### Count the Hacker earth"
   ]
  },
  {
   "cell_type": "code",
   "execution_count": 10,
   "metadata": {},
   "outputs": [
    {
     "name": "stdout",
     "output_type": "stream",
     "text": [
      "145\n",
      "jseccjbwuthkelqiptxynfbjmftriimuyoambosnjksvsgvjsvfgfxvjnvhinyoooaxbwvokntpiqwqvnukwdvwosfdsyaiualitrxeagntjhtclinihtydblmvlqsdsfjjrtfbfjyevfomsb\n",
      "{'e': 4, 'c': 3, 't': 9, 'h': 4, 'k': 4, 'r': 3, 'a': 5}\n",
      "dict_values([4, 3, 9, 4, 4, 3, 5])\n",
      "[2, 3, 9, 2, 4, 1, 2]\n",
      "1\n"
     ]
    }
   ],
   "source": [
    "n=int(input())\n",
    "s=input()\n",
    "k={}\n",
    "for i in s:\n",
    "    if i not in k:\n",
    "        k[i]=1\n",
    "    else:\n",
    "        k[i]+=1\n",
    "u={}\n",
    "for item in k.items():\n",
    "    if item[0]=='h' or item[0]=='a' or item[0]=='c' or item[0]=='k' or item[0]=='e' or item[0]=='t' or item[0]=='r':\n",
    "        u[item[0]]=item[1]\n",
    "u1=u.values()\n",
    "l=[2,2,1,1,2,2,1]\n",
    "b=[]\n",
    "for item in u.items():\n",
    "    if item[0]=='h':\n",
    "        d=item[1]//2\n",
    "        b.append(d)\n",
    "    elif item[0]=='a':\n",
    "        d=item[1]//2\n",
    "        b.append(d)\n",
    "    elif item[0]=='e':\n",
    "        d=item[1]//2\n",
    "        b.append(d)\n",
    "    elif item[0]=='r':\n",
    "        d =item[1]//2\n",
    "        b.append(d)\n",
    "    elif item[0]=='c':\n",
    "        b.append(item[1])\n",
    "    elif item[0]=='k':\n",
    "        b.append(item[1])\n",
    "    elif item[0]=='t':\n",
    "        b.append(item[1])\n",
    "print(b)\n",
    "if len(b)==7:\n",
    "    print(min(b))\n",
    "else:\n",
    "    print(0)\n",
    "            \n",
    "            \n",
    "\n"
   ]
  },
  {
   "cell_type": "code",
   "execution_count": 23,
   "metadata": {},
   "outputs": [
    {
     "name": "stdout",
     "output_type": "stream",
     "text": [
      "geeks\n"
     ]
    }
   ],
   "source": [
    "list1 = ['g','e','e','k', 's']  \n",
    "print(\"\".join(list1)) \n",
    "    "
   ]
  },
  {
   "cell_type": "markdown",
   "metadata": {},
   "source": [
    "### Count Numbers"
   ]
  },
  {
   "cell_type": "code",
   "execution_count": 68,
   "metadata": {},
   "outputs": [
    {
     "name": "stdout",
     "output_type": "stream",
     "text": [
      "12\n",
      "fdf96njdnf100njfnv4\n",
      "33 [1, 1, 1, 1, 1, 1]\n"
     ]
    }
   ],
   "source": [
    "n=int(input())\n",
    "s1=input()\n",
    "d=[]\n",
    "for i in s1:\n",
    "    if i.isalpha():\n",
    "        c=c+1\n",
    "    elif i.isdigit():\n",
    "        d.append(len(i))\n",
    "print(c,d)"
   ]
  },
  {
   "cell_type": "code",
   "execution_count": 78,
   "metadata": {},
   "outputs": [
    {
     "name": "stdout",
     "output_type": "stream",
     "text": [
      "12\n",
      "cdf333cc\n",
      "0 ['3', '3', '3']\n"
     ]
    }
   ],
   "source": [
    "n=int(input())\n",
    "s1=input()\n",
    "d=[]\n",
    "c=0\n",
    "for i in s1:\n",
    "    if i.isnumeric():\n",
    "        #if i-1.isalpha() and i+2.isalpha():\n",
    "        d.append(i)\n",
    "print(c,d)"
   ]
  },
  {
   "cell_type": "code",
   "execution_count": 79,
   "metadata": {},
   "outputs": [
    {
     "name": "stdout",
     "output_type": "stream",
     "text": [
      "12\n",
      "dfedf3r44f22efe\n",
      "[]\n"
     ]
    }
   ],
   "source": [
    "n=int(input())\n",
    "s=input()\n",
    "res=[int(i) for i in s.split() if i.isdigit()]\n",
    "print(res)"
   ]
  },
  {
   "cell_type": "code",
   "execution_count": 77,
   "metadata": {},
   "outputs": [
    {
     "data": {
      "text/plain": [
       "['__add__',\n",
       " '__class__',\n",
       " '__contains__',\n",
       " '__delattr__',\n",
       " '__dir__',\n",
       " '__doc__',\n",
       " '__eq__',\n",
       " '__format__',\n",
       " '__ge__',\n",
       " '__getattribute__',\n",
       " '__getitem__',\n",
       " '__getnewargs__',\n",
       " '__gt__',\n",
       " '__hash__',\n",
       " '__init__',\n",
       " '__init_subclass__',\n",
       " '__iter__',\n",
       " '__le__',\n",
       " '__len__',\n",
       " '__lt__',\n",
       " '__mod__',\n",
       " '__mul__',\n",
       " '__ne__',\n",
       " '__new__',\n",
       " '__reduce__',\n",
       " '__reduce_ex__',\n",
       " '__repr__',\n",
       " '__rmod__',\n",
       " '__rmul__',\n",
       " '__setattr__',\n",
       " '__sizeof__',\n",
       " '__str__',\n",
       " '__subclasshook__',\n",
       " 'capitalize',\n",
       " 'casefold',\n",
       " 'center',\n",
       " 'count',\n",
       " 'encode',\n",
       " 'endswith',\n",
       " 'expandtabs',\n",
       " 'find',\n",
       " 'format',\n",
       " 'format_map',\n",
       " 'index',\n",
       " 'isalnum',\n",
       " 'isalpha',\n",
       " 'isascii',\n",
       " 'isdecimal',\n",
       " 'isdigit',\n",
       " 'isidentifier',\n",
       " 'islower',\n",
       " 'isnumeric',\n",
       " 'isprintable',\n",
       " 'isspace',\n",
       " 'istitle',\n",
       " 'isupper',\n",
       " 'join',\n",
       " 'ljust',\n",
       " 'lower',\n",
       " 'lstrip',\n",
       " 'maketrans',\n",
       " 'partition',\n",
       " 'replace',\n",
       " 'rfind',\n",
       " 'rindex',\n",
       " 'rjust',\n",
       " 'rpartition',\n",
       " 'rsplit',\n",
       " 'rstrip',\n",
       " 'split',\n",
       " 'splitlines',\n",
       " 'startswith',\n",
       " 'strip',\n",
       " 'swapcase',\n",
       " 'title',\n",
       " 'translate',\n",
       " 'upper',\n",
       " 'zfill']"
      ]
     },
     "execution_count": 77,
     "metadata": {},
     "output_type": "execute_result"
    }
   ],
   "source": [
    "dir(str)"
   ]
  },
  {
   "cell_type": "markdown",
   "metadata": {},
   "source": [
    "\n",
    "### Bob and Bombs"
   ]
  },
  {
   "cell_type": "code",
   "execution_count": 6,
   "metadata": {
    "scrolled": true
   },
   "outputs": [
    {
     "name": "stdout",
     "output_type": "stream",
     "text": [
      "3\n",
      "WBW\n",
      "2\n",
      "WWBWWBW\n",
      "5\n",
      "BWWWBWBWW\n",
      "6\n"
     ]
    }
   ],
   "source": [
    "n1=int(input())\n",
    "for i in range(n1):\n",
    "    n=input()\n",
    "    c=0\n",
    "    c1=0\n",
    "    for i in n:\n",
    "        if i =='W':\n",
    "            c=c+1\n",
    "        elif i=='B':\n",
    "            c1=c1+1\n",
    "    d=c1*2\n",
    "    e=c-d\n",
    "    if d==c:\n",
    "        print(d)\n",
    "    else:\n",
    "        print(d+e)\n",
    "    "
   ]
  },
  {
   "cell_type": "code",
   "execution_count": null,
   "metadata": {},
   "outputs": [],
   "source": [
    "5 5\n",
    "2 3 4 8 9\n",
    "1 0 3\n",
    "2 0 1\n",
    "2 0 4\n",
    "1 2 5\n",
    "2 0 3"
   ]
  },
  {
   "cell_type": "code",
   "execution_count": 26,
   "metadata": {},
   "outputs": [
    {
     "name": "stdout",
     "output_type": "stream",
     "text": [
      "5 5 \n",
      "2 3 4 8 9\n",
      "2 0 1\n"
     ]
    },
    {
     "ename": "IndexError",
     "evalue": "list index out of range",
     "output_type": "error",
     "traceback": [
      "\u001b[1;31m---------------------------------------------------------------------------\u001b[0m",
      "\u001b[1;31mIndexError\u001b[0m                                Traceback (most recent call last)",
      "\u001b[1;32m<ipython-input-26-836fb6157474>\u001b[0m in \u001b[0;36m<module>\u001b[1;34m\u001b[0m\n\u001b[0;32m      7\u001b[0m         \u001b[1;32mfor\u001b[0m \u001b[0mi\u001b[0m \u001b[1;32min\u001b[0m \u001b[0mrange\u001b[0m\u001b[1;33m(\u001b[0m\u001b[0mf\u001b[0m\u001b[1;33m,\u001b[0m\u001b[0mg\u001b[0m\u001b[1;33m+\u001b[0m\u001b[1;36m1\u001b[0m\u001b[1;33m)\u001b[0m\u001b[1;33m:\u001b[0m\u001b[1;33m\u001b[0m\u001b[1;33m\u001b[0m\u001b[0m\n\u001b[0;32m      8\u001b[0m             \u001b[1;32mfor\u001b[0m \u001b[0mi\u001b[0m \u001b[1;32min\u001b[0m \u001b[0mc\u001b[0m\u001b[1;33m:\u001b[0m\u001b[1;33m\u001b[0m\u001b[1;33m\u001b[0m\u001b[0m\n\u001b[1;32m----> 9\u001b[1;33m                 \u001b[0ms\u001b[0m\u001b[1;33m=\u001b[0m\u001b[0ms\u001b[0m\u001b[1;33m+\u001b[0m\u001b[0mc\u001b[0m\u001b[1;33m[\u001b[0m\u001b[0mi\u001b[0m\u001b[1;33m]\u001b[0m\u001b[1;33m\u001b[0m\u001b[1;33m\u001b[0m\u001b[0m\n\u001b[0m\u001b[0;32m     10\u001b[0m         \u001b[0mprint\u001b[0m\u001b[1;33m(\u001b[0m\u001b[0ms\u001b[0m\u001b[1;33m)\u001b[0m\u001b[1;33m\u001b[0m\u001b[1;33m\u001b[0m\u001b[0m\n\u001b[0;32m     11\u001b[0m \u001b[1;33m\u001b[0m\u001b[0m\n",
      "\u001b[1;31mIndexError\u001b[0m: list index out of range"
     ]
    }
   ],
   "source": [
    "a,b=map(int,input().split())\n",
    "c=list(map(int,input().split()))\n",
    "for i in range(b):\n",
    "    e,f,g=map(int,input().split())\n",
    "    if e==2:\n",
    "        s=0\n",
    "        for i in range(f,g+1):\n",
    "            for j in c:\n",
    "                \n",
    "        print(s)\n",
    "        \n"
   ]
  },
  {
   "cell_type": "code",
   "execution_count": null,
   "metadata": {},
   "outputs": [],
   "source": []
  }
 ],
 "metadata": {
  "kernelspec": {
   "display_name": "Python 3",
   "language": "python",
   "name": "python3"
  },
  "language_info": {
   "codemirror_mode": {
    "name": "ipython",
    "version": 3
   },
   "file_extension": ".py",
   "mimetype": "text/x-python",
   "name": "python",
   "nbconvert_exporter": "python",
   "pygments_lexer": "ipython3",
   "version": "3.7.3"
  }
 },
 "nbformat": 4,
 "nbformat_minor": 2
}
