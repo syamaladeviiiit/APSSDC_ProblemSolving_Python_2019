{
 "cells": [
  {
   "cell_type": "markdown",
   "metadata": {},
   "source": [
    "## Day Objectives:-\n",
    "- Combinations\n",
    "- Set-Data Structure\n",
    "- Set Operations\n",
    "- Use cases\n",
    "- Functions Programming\n",
    "- Iterators\n",
    "- Generators\n",
    "- Maps\n",
    "- Lambda\n",
    "- Builtin Functions\n",
    "- Use cases"
   ]
  },
  {
   "cell_type": "code",
   "execution_count": null,
   "metadata": {},
   "outputs": [],
   "source": []
  },
  {
   "cell_type": "code",
   "execution_count": null,
   "metadata": {},
   "outputs": [],
   "source": []
  },
  {
   "cell_type": "code",
   "execution_count": null,
   "metadata": {},
   "outputs": [],
   "source": []
  },
  {
   "cell_type": "markdown",
   "metadata": {},
   "source": [
    "### Min- Max hacker earth problem"
   ]
  },
  {
   "cell_type": "code",
   "execution_count": 14,
   "metadata": {},
   "outputs": [
    {
     "name": "stdout",
     "output_type": "stream",
     "text": [
      "5\n",
      "1 2 7 3 1 \n",
      "NO\n"
     ]
    }
   ],
   "source": [
    "n1=int(input())\n",
    "n=list(map(int,input().split()))\n",
    "n3=max(n)\n",
    "n2=min(n)\n",
    "c=0\n",
    "for i in range (n2,n3+1):\n",
    "    if i in n:\n",
    "        c=c+1\n",
    "if c==n1:\n",
    "    print(\"YES\")\n",
    "else:\n",
    "    print(\"NO\")\n"
   ]
  },
  {
   "cell_type": "markdown",
   "metadata": {},
   "source": [
    "### Min- Max hacker earth problem model2"
   ]
  },
  {
   "cell_type": "code",
   "execution_count": null,
   "metadata": {},
   "outputs": [],
   "source": [
    "n1=input().split()\n",
    "x=int(n1[1])\n",
    "y=int(n1[2])\n",
    "n=list(map(int,input().split()))\n",
    "c=0\n",
    "for i in range (x,y+1):\n",
    "    if i in n:\n",
    "        c=c+1\n",
    "if c==n1:\n",
    "    print(\"YES\")\n",
    "else:\n",
    "    print(\"No\")\n"
   ]
  }
 ],
 "metadata": {
  "kernelspec": {
   "display_name": "Python 3",
   "language": "python",
   "name": "python3"
  },
  "language_info": {
   "codemirror_mode": {
    "name": "ipython",
    "version": 3
   },
   "file_extension": ".py",
   "mimetype": "text/x-python",
   "name": "python",
   "nbconvert_exporter": "python",
   "pygments_lexer": "ipython3",
   "version": "3.7.3"
  }
 },
 "nbformat": 4,
 "nbformat_minor": 2
}
