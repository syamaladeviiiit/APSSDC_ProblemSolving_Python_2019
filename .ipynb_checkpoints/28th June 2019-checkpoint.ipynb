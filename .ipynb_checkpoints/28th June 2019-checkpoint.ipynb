{
 "cells": [
  {
   "cell_type": "markdown",
   "metadata": {},
   "source": [
    "## 28th June 2019\n",
    "\n",
    "### Day Objectives:-\n",
    "\n",
    "- Map\n",
    "- Lambda\n",
    "- Filter\n",
    "- Uses cases- File /Data Encryption"
   ]
  },
  {
   "cell_type": "markdown",
   "metadata": {},
   "source": [
    "### Maps"
   ]
  },
  {
   "cell_type": "markdown",
   "metadata": {},
   "source": [
    "- Mapping --> An Entity with a funciton<br>\n",
    "\n",
    "  - f : x^2  \n",
    "  - x : [1,10] \n",
    "  -   f(x)\n",
    " \n",
    "   \n",
    "  y=f(x)\n",
    "  \n",
    "  x ----------->    y=(x^2)\n",
    "  \n",
    "  1  .........>   2   <br>\n",
    "  2 ..........>   4   <br>\n",
    "  3 ..........>   9   <br>\n",
    "  4 ...........>  16  <br>\n",
    "  5 ............> 25   <br>\n",
    "  6 ............> 36  <br>\n",
    "  7 ...........>  49  <br>\n",
    "  8 ...........>  64  <br>\n",
    "  9  ...........> 81  <br>\n",
    "  10 ...........> 100  <br>\n",
    "  \n",
    "  ###### map ===>> ( function , Iterable )\n",
    "  "
   ]
  },
  {
   "cell_type": "code",
   "execution_count": 1,
   "metadata": {},
   "outputs": [
    {
     "data": {
      "text/plain": [
       "9"
      ]
     },
     "execution_count": 1,
     "metadata": {},
     "output_type": "execute_result"
    }
   ],
   "source": [
    "def powerN1(a,n):\n",
    "    return a**n\n",
    "a=int(input())\n",
    "n=int(input())\n",
    "powerN(3,2)\n",
    "    "
   ]
  },
  {
   "cell_type": "code",
   "execution_count": 7,
   "metadata": {},
   "outputs": [
    {
     "name": "stdout",
     "output_type": "stream",
     "text": [
      "3\n",
      "5\n"
     ]
    },
    {
     "data": {
      "text/plain": [
       "125"
      ]
     },
     "execution_count": 7,
     "metadata": {},
     "output_type": "execute_result"
    }
   ],
   "source": [
    "def powerN2(a,n):\n",
    "    r=1\n",
    "    for i in range(0,n):\n",
    "        r*=a\n",
    "    return r\n",
    "a=int(input())\n",
    "n=int(input())\n",
    "powerN1(a,n)"
   ]
  },
  {
   "cell_type": "code",
   "execution_count": 10,
   "metadata": {},
   "outputs": [
    {
     "name": "stdout",
     "output_type": "stream",
     "text": [
      "2\n",
      "4\n"
     ]
    },
    {
     "data": {
      "text/plain": [
       "16"
      ]
     },
     "execution_count": 10,
     "metadata": {},
     "output_type": "execute_result"
    }
   ],
   "source": [
    "def powerN3_Recurssion(a,n):\n",
    "    if n==0:\n",
    "        return 1\n",
    "    else:\n",
    "        return a * powerN3_Recurssion(a,n-1)\n",
    "a=int(input())\n",
    "n=int(input())\n",
    "powerN3_Recurssion(a,n)\n",
    "        \n"
   ]
  },
  {
   "cell_type": "code",
   "execution_count": null,
   "metadata": {},
   "outputs": [],
   "source": []
  }
 ],
 "metadata": {
  "kernelspec": {
   "display_name": "Python 3",
   "language": "python",
   "name": "python3"
  },
  "language_info": {
   "codemirror_mode": {
    "name": "ipython",
    "version": 3
   },
   "file_extension": ".py",
   "mimetype": "text/x-python",
   "name": "python",
   "nbconvert_exporter": "python",
   "pygments_lexer": "ipython3",
   "version": "3.7.3"
  }
 },
 "nbformat": 4,
 "nbformat_minor": 2
}
